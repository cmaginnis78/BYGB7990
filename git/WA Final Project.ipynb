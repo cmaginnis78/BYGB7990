{
 "cells": [
  {
   "cell_type": "code",
   "execution_count": 1,
   "id": "67d3900f",
   "metadata": {},
   "outputs": [],
   "source": [
    "# Import pandas to read in data\n",
    "import pandas as pd\n",
    "import numpy as np\n",
    "\n",
    "# Import matplotlib for plotting\n",
    "import matplotlib.pylab as plt\n",
    "%matplotlib inline\n",
    "\n",
    "# Import decision trees and logistic regression\n",
    "from sklearn.tree import DecisionTreeClassifier\n",
    "from sklearn.linear_model import LogisticRegression\n",
    "\n",
    "# Import train, test, and evaluation functions\n",
    "from sklearn.metrics import accuracy_score\n",
    "from sklearn.model_selection import train_test_split\n",
    "from sklearn.model_selection import cross_val_score"
   ]
  },
  {
   "cell_type": "code",
   "execution_count": 2,
   "id": "2de9789b",
   "metadata": {},
   "outputs": [],
   "source": [
    "# Read data using pandas\n",
    "data = pd.read_csv(\"/users/Connor/school/web analytics/Reddit Scrapes/reddit_Anxiety_data2.csv\")\n",
    "\n",
    "# Split into X and Y\n",
    "X = data['body']\n",
    "Y = data['Diagnosis2']"
   ]
  },
  {
   "cell_type": "code",
   "execution_count": 3,
   "id": "2d665640",
   "metadata": {},
   "outputs": [
    {
     "data": {
      "text/plain": [
       "0     Happy Sunday /r/Anxiety!\\n\\nIt's everyone's fa...\n",
       "1     Hello everyone! Welcome to the r/Anxiety month...\n",
       "2     Hey guys, I have been an avid follower of this...\n",
       "3                                            empty text\n",
       "4                                            empty text\n",
       "5     Edit: I just wanna say thank you to everyone w...\n",
       "6     I just turned 33. I have been working at a tem...\n",
       "7     i always feel like something bad is going to h...\n",
       "8     it all seems dark. im mostly consumed by anxie...\n",
       "9     I had what I was really worried was an emergen...\n",
       "10    Burner account because this is so stupid, advi...\n",
       "11    I hadn’t had a panic attack in months, and I d...\n",
       "12    Hi, I have PTSD from a stalker been diagnosed....\n",
       "13    So, this is going to be very long, it's just m...\n",
       "14    Hello everyone, I have been suffering from som...\n",
       "15                                           empty text\n",
       "16                                        Unreversible*\n",
       "17    \\n\\nhow to deal with bullying and exclusion su...\n",
       "18    Been feeling like shit for a while and today w...\n",
       "19    Anyone ever experience a slow pounding heart w...\n",
       "20    Now i’m cold but better than thinking I’m havi...\n",
       "21    I got wasted last night with my boyfriends fri...\n",
       "22    My dog died from cancer dec 1st. Last week we ...\n",
       "23    I was diagnosed with GAD yesterday and my doct...\n",
       "24    Please shed some light...\\n\\n2 years ago we lo...\n",
       "25    TW: mention of death. 22F. I have severe OCD a...\n",
       "26    I have no one who could support me.. I'm barel...\n",
       "27    My husband, two children, and I (33F) have a v...\n",
       "28    Crush said hi to me and I said it back and it ...\n",
       "29    Every day, we get up, even when we feel we cou...\n",
       "30    So I have an appointment tomorrow for a drug t...\n",
       "31    I was hired through an agency so I have to fil...\n",
       "32    TW: mention of death. 22F. I have severe OCD a...\n",
       "33    Please tell me I'm not alone :( these intrusiv...\n",
       "34    With my anxiety my brain seems to jump to the ...\n",
       "35    This really has been the leading part of my an...\n",
       "36    My anxiety is becoming worse and worse the thi...\n",
       "37    Or even just during anxiety in general....\\n\\n...\n",
       "38    i have a pretty serious infection and i’ve tri...\n",
       "39    As the title says, it’s been a really rough mo...\n",
       "40    A month ago I experienced the first seizure I'...\n",
       "41    I’ve been using tiktok since 2018, and recentl...\n",
       "42    It’s 4 am I woke up to my heart literally poun...\n",
       "43    Hi. My overthinking and aniexty is terrible I ...\n",
       "44    I've been feeling unwell since September, it s...\n",
       "45    Any advice to stop feeling out of body and or ...\n",
       "46    I tested positive on Wednesday, as well as my ...\n",
       "47    I just can’t. No matter how many times I’ve de...\n",
       "48    For example, my therapist has recommended me m...\n",
       "49    It is currently 5:46 AM, the right side of my ...\n",
       "Name: body, dtype: object"
      ]
     },
     "execution_count": 3,
     "metadata": {},
     "output_type": "execute_result"
    }
   ],
   "source": [
    "X"
   ]
  },
  {
   "cell_type": "code",
   "execution_count": 4,
   "id": "11031c9b",
   "metadata": {},
   "outputs": [
    {
     "data": {
      "text/html": [
       "<div>\n",
       "<style scoped>\n",
       "    .dataframe tbody tr th:only-of-type {\n",
       "        vertical-align: middle;\n",
       "    }\n",
       "\n",
       "    .dataframe tbody tr th {\n",
       "        vertical-align: top;\n",
       "    }\n",
       "\n",
       "    .dataframe thead th {\n",
       "        text-align: right;\n",
       "    }\n",
       "</style>\n",
       "<table border=\"1\" class=\"dataframe\">\n",
       "  <thead>\n",
       "    <tr style=\"text-align: right;\">\n",
       "      <th></th>\n",
       "      <th>title</th>\n",
       "      <th>score</th>\n",
       "      <th>num_comments</th>\n",
       "      <th>body</th>\n",
       "      <th>created</th>\n",
       "      <th>Diagnosis2</th>\n",
       "    </tr>\n",
       "  </thead>\n",
       "  <tbody>\n",
       "    <tr>\n",
       "      <th>0</th>\n",
       "      <td>Set your intention</td>\n",
       "      <td>1</td>\n",
       "      <td>1</td>\n",
       "      <td>Happy Sunday /r/Anxiety!\\n\\nIt's everyone's fa...</td>\n",
       "      <td>1670155213</td>\n",
       "      <td>NO</td>\n",
       "    </tr>\n",
       "    <tr>\n",
       "      <th>1</th>\n",
       "      <td>Monthly Check-In Thread</td>\n",
       "      <td>7</td>\n",
       "      <td>48</td>\n",
       "      <td>Hello everyone! Welcome to the r/Anxiety month...</td>\n",
       "      <td>1669424412</td>\n",
       "      <td>NO</td>\n",
       "    </tr>\n",
       "    <tr>\n",
       "      <th>2</th>\n",
       "      <td>Got cured of Generalized Anxiety Disorder! Her...</td>\n",
       "      <td>51</td>\n",
       "      <td>19</td>\n",
       "      <td>Hey guys, I have been an avid follower of this...</td>\n",
       "      <td>1670135486</td>\n",
       "      <td>YES</td>\n",
       "    </tr>\n",
       "    <tr>\n",
       "      <th>3</th>\n",
       "      <td>Do anyone notice they get anxious after eating ?</td>\n",
       "      <td>94</td>\n",
       "      <td>56</td>\n",
       "      <td>empty text</td>\n",
       "      <td>1670117445</td>\n",
       "      <td>NO</td>\n",
       "    </tr>\n",
       "    <tr>\n",
       "      <th>4</th>\n",
       "      <td>Is it common to have intrusive thoughts with a...</td>\n",
       "      <td>190</td>\n",
       "      <td>68</td>\n",
       "      <td>empty text</td>\n",
       "      <td>1670094048</td>\n",
       "      <td>NO</td>\n",
       "    </tr>\n",
       "  </tbody>\n",
       "</table>\n",
       "</div>"
      ],
      "text/plain": [
       "                                               title  score  num_comments  \\\n",
       "0                                 Set your intention      1             1   \n",
       "1                            Monthly Check-In Thread      7            48   \n",
       "2  Got cured of Generalized Anxiety Disorder! Her...     51            19   \n",
       "3   Do anyone notice they get anxious after eating ?     94            56   \n",
       "4  Is it common to have intrusive thoughts with a...    190            68   \n",
       "\n",
       "                                                body     created Diagnosis2  \n",
       "0  Happy Sunday /r/Anxiety!\\n\\nIt's everyone's fa...  1670155213         NO  \n",
       "1  Hello everyone! Welcome to the r/Anxiety month...  1669424412         NO  \n",
       "2  Hey guys, I have been an avid follower of this...  1670135486        YES  \n",
       "3                                         empty text  1670117445         NO  \n",
       "4                                         empty text  1670094048         NO  "
      ]
     },
     "execution_count": 4,
     "metadata": {},
     "output_type": "execute_result"
    }
   ],
   "source": [
    "data.head()"
   ]
  },
  {
   "cell_type": "code",
   "execution_count": 5,
   "id": "98628c1c",
   "metadata": {},
   "outputs": [
    {
     "data": {
      "text/plain": [
       "0     NO\n",
       "1     NO\n",
       "2    YES\n",
       "3     NO\n",
       "4     NO\n",
       "Name: Diagnosis2, dtype: object"
      ]
     },
     "execution_count": 5,
     "metadata": {},
     "output_type": "execute_result"
    }
   ],
   "source": [
    "Y.head()"
   ]
  },
  {
   "cell_type": "code",
   "execution_count": 6,
   "id": "8594fec5",
   "metadata": {},
   "outputs": [],
   "source": [
    "from sklearn.feature_extraction.text import CountVectorizer\n",
    "from sklearn.feature_extraction.text import TfidfVectorizer\n",
    "\n",
    "# Create a vectorizer that will track text as binary features\n",
    "binary_vectorizer = CountVectorizer(binary=True)\n",
    "\n",
    "# Let the vectorizer learn what tokens exist in the text data\n",
    "binary_vectorizer.fit(X)\n",
    "\n",
    "# Turn these tokens into a numeric matrix\n",
    "x_numerical = binary_vectorizer.transform(X)"
   ]
  },
  {
   "cell_type": "code",
   "execution_count": 7,
   "id": "c5562a6e",
   "metadata": {},
   "outputs": [
    {
     "data": {
      "text/plain": [
       "<50x1813 sparse matrix of type '<class 'numpy.int64'>'\n",
       "\twith 4941 stored elements in Compressed Sparse Row format>"
      ]
     },
     "execution_count": 7,
     "metadata": {},
     "output_type": "execute_result"
    }
   ],
   "source": [
    "x_numerical"
   ]
  },
  {
   "cell_type": "code",
   "execution_count": 8,
   "id": "978b36ab",
   "metadata": {},
   "outputs": [
    {
     "name": "stdout",
     "output_type": "stream",
     "text": [
      "Accuracy of our classifier is 0.76\n"
     ]
    }
   ],
   "source": [
    "logistic_regression = LogisticRegression()\n",
    "\n",
    "# Use this model and our data to get 5-fold cross validation\n",
    "\n",
    "from sklearn.model_selection import cross_val_score\n",
    "accs = cross_val_score(logistic_regression, x_numerical, Y, scoring=\"accuracy\", cv=5)\n",
    "\n",
    "# Print out the average accuracy rounded to three decimal points\n",
    "print(\"Accuracy of our classifier is \" + str(round(np.mean(accs), 3)))"
   ]
  },
  {
   "cell_type": "code",
   "execution_count": 9,
   "id": "b2e41c16",
   "metadata": {},
   "outputs": [
    {
     "name": "stdout",
     "output_type": "stream",
     "text": [
      "Accuracy of our classifier is 0.8\n"
     ]
    }
   ],
   "source": [
    "# Create a vectorizer that will track text as counted features\n",
    "count_vectorizer = CountVectorizer()\n",
    "\n",
    "# Let the vectorizer learn what tokens exist in the text data\n",
    "count_vectorizer.fit(X)\n",
    "\n",
    "# Turn these tokens into a numeric matrix\n",
    "x_numerical = count_vectorizer.transform(X)\n",
    "\n",
    "# Create a model\n",
    "logistic_regression = LogisticRegression(max_iter=100000)\n",
    "\n",
    "# Use this model and our data to get 5-fold cross validation AUCs\n",
    "accs = cross_val_score(logistic_regression, x_numerical, Y, scoring=\"accuracy\", cv=5)\n",
    "\n",
    "# Print out the average AUC rounded to three decimal points\n",
    "print(\"Accuracy of our classifier is \" + str(round(np.mean(accs), 3)))"
   ]
  },
  {
   "cell_type": "code",
   "execution_count": 10,
   "id": "7049aa58",
   "metadata": {},
   "outputs": [
    {
     "name": "stdout",
     "output_type": "stream",
     "text": [
      "Accuracy of our classifier is 0.78\n"
     ]
    }
   ],
   "source": [
    "# Create a vectorizer that will track text as binary features\n",
    "tfidf_vectorizer = TfidfVectorizer()\n",
    "\n",
    "# Let the vectorizer learn what tokens exist in the text data\n",
    "tfidf_vectorizer.fit(X)\n",
    "\n",
    "# Turn these tokens into a numeric matrix\n",
    "x_numerical = tfidf_vectorizer.transform(X)\n",
    "\n",
    "# Create a model\n",
    "logistic_regression = LogisticRegression(max_iter=100000)\n",
    "\n",
    "# Use this model and our data to get 5-fold cross validation AUCs\n",
    "aucs = cross_val_score(logistic_regression, x_numerical, Y, scoring=\"accuracy\", cv=5)\n",
    "\n",
    "# Print out the average AUC rounded to three decimal points\n",
    "print(\"Accuracy of our classifier is \" + str(round(np.mean(aucs), 3)))"
   ]
  },
  {
   "cell_type": "code",
   "execution_count": null,
   "id": "4ad009ef",
   "metadata": {},
   "outputs": [],
   "source": []
  }
 ],
 "metadata": {
  "kernelspec": {
   "display_name": "Python 3 (ipykernel)",
   "language": "python",
   "name": "python3"
  },
  "language_info": {
   "codemirror_mode": {
    "name": "ipython",
    "version": 3
   },
   "file_extension": ".py",
   "mimetype": "text/x-python",
   "name": "python",
   "nbconvert_exporter": "python",
   "pygments_lexer": "ipython3",
   "version": "3.9.12"
  }
 },
 "nbformat": 4,
 "nbformat_minor": 5
}
